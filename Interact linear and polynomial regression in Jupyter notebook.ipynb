{
 "cells": [
  {
   "cell_type": "code",
   "execution_count": 1,
   "id": "304fe41e",
   "metadata": {},
   "outputs": [
    {
     "data": {
      "application/vnd.jupyter.widget-view+json": {
       "model_id": "1c1969bac7e34803af49b9494b31c1f2",
       "version_major": 2,
       "version_minor": 0
      },
      "text/plain": [
       "interactive(children=(IntSlider(value=10, description='n', max=20, min=1), IntSlider(value=15, description='t'…"
      ]
     },
     "metadata": {},
     "output_type": "display_data"
    }
   ],
   "source": [
    "import numpy\n",
    "import matplotlib.pyplot as plt\n",
    "from ipywidgets import interactive\n",
    "def f(n,t):\n",
    "    x = [1,2,3,4,5,6,7,8,9,10,11,12,15,17,22,23,25,30]\n",
    "    y = [100,90,80,60,60,55,60,65,70,70,75,76,78,79,90,99,99,100]\n",
    "\n",
    "    curve_model = numpy.poly1d(numpy.polyfit(x, y, n))\n",
    "\n",
    "    curve_fitting_line = numpy.linspace(1, t, 100)\n",
    "\n",
    "    plt.scatter(x, y)\n",
    "    plt.plot(curve_fitting_line, curve_model(curve_fitting_line))\n",
    "    plt.show()\n",
    "\n",
    "\n",
    "interactive_plot= interactive(f,n=(1,20),t = (1,30))\n",
    "interactive_plot"
   ]
  },
  {
   "cell_type": "code",
   "execution_count": null,
   "id": "7ff42783",
   "metadata": {},
   "outputs": [],
   "source": []
  }
 ],
 "metadata": {
  "kernelspec": {
   "display_name": "Python 3",
   "language": "python",
   "name": "python3"
  },
  "language_info": {
   "codemirror_mode": {
    "name": "ipython",
    "version": 3
   },
   "file_extension": ".py",
   "mimetype": "text/x-python",
   "name": "python",
   "nbconvert_exporter": "python",
   "pygments_lexer": "ipython3",
   "version": "3.8.8"
  }
 },
 "nbformat": 4,
 "nbformat_minor": 5
}
