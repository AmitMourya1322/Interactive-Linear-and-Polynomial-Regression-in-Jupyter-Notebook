{
 "cells": [
  {
   "cell_type": "code",
   "execution_count": 12,
   "id": "aeaa31f9",
   "metadata": {},
   "outputs": [
    {
     "name": "stdout",
     "output_type": "stream",
     "text": [
      "right\n"
     ]
    }
   ],
   "source": [
    "#if else loop\n",
    "#beware from the indented block error\n",
    "a = 28\n",
    "if a%2==0:\n",
    "    print('right')\n",
    "\n",
    "else:\n",
    "    print('wrong')"
   ]
  },
  {
   "cell_type": "markdown",
   "id": "ef91f4a9",
   "metadata": {},
   "source": [
    "# finding the larget number"
   ]
  },
  {
   "cell_type": "code",
   "execution_count": 1,
   "id": "025d36b9",
   "metadata": {},
   "outputs": [
    {
     "name": "stdout",
     "output_type": "stream",
     "text": [
      "c is greatest number\n"
     ]
    }
   ],
   "source": [
    "a = 5\n",
    "b= 7 \n",
    "c =9\n",
    "\n",
    "if a>b and b>c:\n",
    "    print(' a is greatest number')\n",
    "elif b>a and a>c:\n",
    "    print('b is greatest number')\n",
    "else:\n",
    "    print('c is greatest number')"
   ]
  },
  {
   "cell_type": "markdown",
   "id": "ddd6b53b",
   "metadata": {},
   "source": [
    "# While Loop"
   ]
  },
  {
   "cell_type": "code",
   "execution_count": 10,
   "id": "ad7158c5",
   "metadata": {},
   "outputs": [
    {
     "name": "stdout",
     "output_type": "stream",
     "text": [
      "3\n"
     ]
    }
   ],
   "source": [
    "n = 4\n",
    "sum = 0 #what if we don't define sum =0\n",
    "i =1\n",
    "while (i<n):\n",
    "    sum = sum+1\n",
    "    i = i+1\n",
    "print(sum)"
   ]
  },
  {
   "cell_type": "code",
   "execution_count": 5,
   "id": "936fa36e",
   "metadata": {},
   "outputs": [
    {
     "data": {
      "text/plain": [
       "5"
      ]
     },
     "execution_count": 5,
     "metadata": {},
     "output_type": "execute_result"
    }
   ],
   "source": [
    "a = 5\n",
    "b= 7 \n",
    "c =9\n",
    "\n",
    "min(a,b,c)"
   ]
  },
  {
   "cell_type": "code",
   "execution_count": null,
   "id": "304fe41e",
   "metadata": {},
   "outputs": [],
   "source": []
  }
 ],
 "metadata": {
  "kernelspec": {
   "display_name": "Python 3",
   "language": "python",
   "name": "python3"
  },
  "language_info": {
   "codemirror_mode": {
    "name": "ipython",
    "version": 3
   },
   "file_extension": ".py",
   "mimetype": "text/x-python",
   "name": "python",
   "nbconvert_exporter": "python",
   "pygments_lexer": "ipython3",
   "version": "3.8.8"
  }
 },
 "nbformat": 4,
 "nbformat_minor": 5
}
